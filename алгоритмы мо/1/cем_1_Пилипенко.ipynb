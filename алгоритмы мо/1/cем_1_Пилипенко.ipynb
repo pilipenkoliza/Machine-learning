{
 "cells": [
  {
   "cell_type": "markdown",
   "id": "fb022379",
   "metadata": {},
   "source": [
    "# <center>Семинар №1<center>\n",
    "### <left>Выполнила: Пилипенко Елизавета<left>\n",
    "### <left>Группа: ИДБ-22-13<left>"
   ]
  },
  {
   "cell_type": "markdown",
   "id": "010744a6",
   "metadata": {},
   "source": [
    "Вам представлен датасет cars.csv с объявлениями о продаже в Германии на 2022 год. Необходимо осмотреть первично данные и выполнить их предобработку, также сделать соответствующие выводы по полученной информации"
   ]
  },
  {
   "cell_type": "markdown",
   "id": "ed70e594",
   "metadata": {},
   "source": [
    "### Обзор данных"
   ]
  },
  {
   "cell_type": "markdown",
   "id": "9d7fd2ab",
   "metadata": {},
   "source": [
    "* `mileage` — Пройденное расстояние на автомобиле\n",
    "* `make` — Марка автомобиля\n",
    "* `model` — Модель автомобиля\n",
    "* `fuel` — Тип топлива\n",
    "* `gear` — Тип коробки передач\n",
    "* `offerType` — Тип предложения, то есть «Новые», «Демонстрационные» машины и т.д.\n",
    "* `price` — Цена продажи автомобиля в объявлении (в долларах)\n",
    "* `hp` — Количество лошадиных сил\n",
    "* `year` — Год производства автомобиля"
   ]
  },
  {
   "cell_type": "markdown",
   "id": "b515fc24",
   "metadata": {},
   "source": [
    "Импортируйте необходимые библиотеки"
   ]
  },
  {
   "cell_type": "code",
   "execution_count": 3,
   "id": "414df48c",
   "metadata": {},
   "outputs": [],
   "source": [
    "import numpy as np\n",
    "import pandas as pd"
   ]
  },
  {
   "cell_type": "markdown",
   "id": "bf6bbc88",
   "metadata": {},
   "source": [
    "### Загрузка данных"
   ]
  },
  {
   "cell_type": "markdown",
   "id": "62897a44",
   "metadata": {},
   "source": [
    "1. Загрузите необходимый датасет в переменную"
   ]
  },
  {
   "cell_type": "code",
   "execution_count": 4,
   "id": "18a0d110",
   "metadata": {},
   "outputs": [],
   "source": [
    "file = './data/cars.csv'\n",
    "df = pd.read_csv(file)"
   ]
  },
  {
   "cell_type": "markdown",
   "id": "59248a9b",
   "metadata": {},
   "source": [
    "2. Проведите первичный осмотр данных при помощи известных вам методов(дополнительно можно использовать метод hist() для оценки распределений). Сделайте соответствующие выводы на основе полученной информации"
   ]
  },
  {
   "cell_type": "code",
   "execution_count": 5,
   "id": "2405c119",
   "metadata": {
    "scrolled": true
   },
   "outputs": [
    {
     "data": {
      "text/plain": [
       "(46405, 9)"
      ]
     },
     "execution_count": 5,
     "metadata": {},
     "output_type": "execute_result"
    }
   ],
   "source": [
    "df.shape"
   ]
  },
  {
   "cell_type": "code",
   "execution_count": 6,
   "id": "115a6b9c-1a28-48e7-9618-0c24a7aeef3b",
   "metadata": {
    "scrolled": true
   },
   "outputs": [
    {
     "data": {
      "text/html": [
       "<div>\n",
       "<style scoped>\n",
       "    .dataframe tbody tr th:only-of-type {\n",
       "        vertical-align: middle;\n",
       "    }\n",
       "\n",
       "    .dataframe tbody tr th {\n",
       "        vertical-align: top;\n",
       "    }\n",
       "\n",
       "    .dataframe thead th {\n",
       "        text-align: right;\n",
       "    }\n",
       "</style>\n",
       "<table border=\"1\" class=\"dataframe\">\n",
       "  <thead>\n",
       "    <tr style=\"text-align: right;\">\n",
       "      <th></th>\n",
       "      <th>mileage</th>\n",
       "      <th>make</th>\n",
       "      <th>model</th>\n",
       "      <th>fuel</th>\n",
       "      <th>gear</th>\n",
       "      <th>offerType</th>\n",
       "      <th>price</th>\n",
       "      <th>hp</th>\n",
       "      <th>year</th>\n",
       "    </tr>\n",
       "  </thead>\n",
       "  <tbody>\n",
       "    <tr>\n",
       "      <th>15641</th>\n",
       "      <td>70000</td>\n",
       "      <td>Suzuki</td>\n",
       "      <td>Splash</td>\n",
       "      <td>Gasoline</td>\n",
       "      <td>Manual</td>\n",
       "      <td>Used</td>\n",
       "      <td>5199.0</td>\n",
       "      <td>86.0</td>\n",
       "      <td>2011</td>\n",
       "    </tr>\n",
       "    <tr>\n",
       "      <th>10077</th>\n",
       "      <td>10</td>\n",
       "      <td>Opel</td>\n",
       "      <td>Corsa</td>\n",
       "      <td>Gasoline</td>\n",
       "      <td>Manual</td>\n",
       "      <td>Pre-registered</td>\n",
       "      <td>13588.0</td>\n",
       "      <td>75.0</td>\n",
       "      <td>2021</td>\n",
       "    </tr>\n",
       "    <tr>\n",
       "      <th>33914</th>\n",
       "      <td>110000</td>\n",
       "      <td>Opel</td>\n",
       "      <td>Zafira</td>\n",
       "      <td>Gasoline</td>\n",
       "      <td>Manual</td>\n",
       "      <td>Used</td>\n",
       "      <td>4790.0</td>\n",
       "      <td>150.0</td>\n",
       "      <td>2011</td>\n",
       "    </tr>\n",
       "    <tr>\n",
       "      <th>39265</th>\n",
       "      <td>67800</td>\n",
       "      <td>Fiat</td>\n",
       "      <td>500</td>\n",
       "      <td>Gasoline</td>\n",
       "      <td>Manual</td>\n",
       "      <td>Used</td>\n",
       "      <td>6500.0</td>\n",
       "      <td>69.0</td>\n",
       "      <td>2015</td>\n",
       "    </tr>\n",
       "    <tr>\n",
       "      <th>1159</th>\n",
       "      <td>35800</td>\n",
       "      <td>MINI</td>\n",
       "      <td>Cooper S Countryman</td>\n",
       "      <td>Gasoline</td>\n",
       "      <td>Automatic</td>\n",
       "      <td>Used</td>\n",
       "      <td>25930.0</td>\n",
       "      <td>192.0</td>\n",
       "      <td>2017</td>\n",
       "    </tr>\n",
       "    <tr>\n",
       "      <th>41809</th>\n",
       "      <td>39946</td>\n",
       "      <td>Citroen</td>\n",
       "      <td>C1</td>\n",
       "      <td>Gasoline</td>\n",
       "      <td>Manual</td>\n",
       "      <td>Used</td>\n",
       "      <td>7380.0</td>\n",
       "      <td>69.0</td>\n",
       "      <td>2017</td>\n",
       "    </tr>\n",
       "    <tr>\n",
       "      <th>8019</th>\n",
       "      <td>8980</td>\n",
       "      <td>Nissan</td>\n",
       "      <td>Qashqai</td>\n",
       "      <td>Gasoline</td>\n",
       "      <td>Automatic</td>\n",
       "      <td>Used</td>\n",
       "      <td>24698.0</td>\n",
       "      <td>159.0</td>\n",
       "      <td>2020</td>\n",
       "    </tr>\n",
       "    <tr>\n",
       "      <th>34947</th>\n",
       "      <td>114000</td>\n",
       "      <td>Volkswagen</td>\n",
       "      <td>Polo</td>\n",
       "      <td>Gasoline</td>\n",
       "      <td>Manual</td>\n",
       "      <td>Used</td>\n",
       "      <td>5790.0</td>\n",
       "      <td>86.0</td>\n",
       "      <td>2011</td>\n",
       "    </tr>\n",
       "    <tr>\n",
       "      <th>29131</th>\n",
       "      <td>30000</td>\n",
       "      <td>Mercedes-Benz</td>\n",
       "      <td>B 200</td>\n",
       "      <td>Diesel</td>\n",
       "      <td>Automatic</td>\n",
       "      <td>Used</td>\n",
       "      <td>27890.0</td>\n",
       "      <td>150.0</td>\n",
       "      <td>2019</td>\n",
       "    </tr>\n",
       "    <tr>\n",
       "      <th>855</th>\n",
       "      <td>117000</td>\n",
       "      <td>Nissan</td>\n",
       "      <td>Qashqai</td>\n",
       "      <td>Gasoline</td>\n",
       "      <td>Manual</td>\n",
       "      <td>Used</td>\n",
       "      <td>9850.0</td>\n",
       "      <td>117.0</td>\n",
       "      <td>2013</td>\n",
       "    </tr>\n",
       "  </tbody>\n",
       "</table>\n",
       "</div>"
      ],
      "text/plain": [
       "       mileage           make                model      fuel       gear  \\\n",
       "15641    70000         Suzuki               Splash  Gasoline     Manual   \n",
       "10077       10           Opel                Corsa  Gasoline     Manual   \n",
       "33914   110000           Opel               Zafira  Gasoline     Manual   \n",
       "39265    67800           Fiat                  500  Gasoline     Manual   \n",
       "1159     35800           MINI  Cooper S Countryman  Gasoline  Automatic   \n",
       "41809    39946        Citroen                   C1  Gasoline     Manual   \n",
       "8019      8980         Nissan              Qashqai  Gasoline  Automatic   \n",
       "34947   114000     Volkswagen                 Polo  Gasoline     Manual   \n",
       "29131    30000  Mercedes-Benz                B 200    Diesel  Automatic   \n",
       "855     117000         Nissan              Qashqai  Gasoline     Manual   \n",
       "\n",
       "            offerType    price     hp  year  \n",
       "15641            Used   5199.0   86.0  2011  \n",
       "10077  Pre-registered  13588.0   75.0  2021  \n",
       "33914            Used   4790.0  150.0  2011  \n",
       "39265            Used   6500.0   69.0  2015  \n",
       "1159             Used  25930.0  192.0  2017  \n",
       "41809            Used   7380.0   69.0  2017  \n",
       "8019             Used  24698.0  159.0  2020  \n",
       "34947            Used   5790.0   86.0  2011  \n",
       "29131            Used  27890.0  150.0  2019  \n",
       "855              Used   9850.0  117.0  2013  "
      ]
     },
     "execution_count": 6,
     "metadata": {},
     "output_type": "execute_result"
    }
   ],
   "source": [
    "df.sample(10)"
   ]
  },
  {
   "cell_type": "code",
   "execution_count": 7,
   "id": "6da56ccf-b59d-4b69-ab34-81670078f22f",
   "metadata": {
    "scrolled": true
   },
   "outputs": [
    {
     "data": {
      "text/plain": [
       "offerType\n",
       "Used              40122\n",
       "Pre-registered     2780\n",
       "Demonstration      2368\n",
       "Employee's car     1122\n",
       "New                  13\n",
       "Name: count, dtype: int64"
      ]
     },
     "execution_count": 7,
     "metadata": {},
     "output_type": "execute_result"
    }
   ],
   "source": [
    "df['offerType'].value_counts()"
   ]
  },
  {
   "cell_type": "code",
   "execution_count": 8,
   "id": "4406466e-1fce-4b70-97b2-016d59a4531f",
   "metadata": {
    "scrolled": true
   },
   "outputs": [
    {
     "data": {
      "text/plain": [
       "gear\n",
       "Manual            30380\n",
       "Automatic         15787\n",
       "Semi-automatic       56\n",
       "Name: count, dtype: int64"
      ]
     },
     "execution_count": 8,
     "metadata": {},
     "output_type": "execute_result"
    }
   ],
   "source": [
    "df['gear'].value_counts()"
   ]
  },
  {
   "cell_type": "code",
   "execution_count": 9,
   "id": "61b8a50b-73c8-42d0-9aef-1147685ae423",
   "metadata": {
    "scrolled": true
   },
   "outputs": [
    {
     "name": "stdout",
     "output_type": "stream",
     "text": [
      "<class 'pandas.core.frame.DataFrame'>\n",
      "RangeIndex: 46405 entries, 0 to 46404\n",
      "Data columns (total 9 columns):\n",
      " #   Column     Non-Null Count  Dtype  \n",
      "---  ------     --------------  -----  \n",
      " 0   mileage    46405 non-null  int64  \n",
      " 1   make       46405 non-null  object \n",
      " 2   model      46262 non-null  object \n",
      " 3   fuel       46158 non-null  object \n",
      " 4   gear       46223 non-null  object \n",
      " 5   offerType  46405 non-null  object \n",
      " 6   price      44872 non-null  float64\n",
      " 7   hp         46376 non-null  float64\n",
      " 8   year       46405 non-null  int64  \n",
      "dtypes: float64(2), int64(2), object(5)\n",
      "memory usage: 3.2+ MB\n"
     ]
    }
   ],
   "source": [
    "df.info()"
   ]
  },
  {
   "cell_type": "code",
   "execution_count": 10,
   "id": "9ac3741e-b491-4fcc-b007-c607a0fc1b24",
   "metadata": {
    "scrolled": true
   },
   "outputs": [
    {
     "data": {
      "text/html": [
       "<div>\n",
       "<style scoped>\n",
       "    .dataframe tbody tr th:only-of-type {\n",
       "        vertical-align: middle;\n",
       "    }\n",
       "\n",
       "    .dataframe tbody tr th {\n",
       "        vertical-align: top;\n",
       "    }\n",
       "\n",
       "    .dataframe thead th {\n",
       "        text-align: right;\n",
       "    }\n",
       "</style>\n",
       "<table border=\"1\" class=\"dataframe\">\n",
       "  <thead>\n",
       "    <tr style=\"text-align: right;\">\n",
       "      <th></th>\n",
       "      <th>mileage</th>\n",
       "      <th>price</th>\n",
       "      <th>hp</th>\n",
       "      <th>year</th>\n",
       "    </tr>\n",
       "  </thead>\n",
       "  <tbody>\n",
       "    <tr>\n",
       "      <th>count</th>\n",
       "      <td>4.430400e+04</td>\n",
       "      <td>4.430400e+04</td>\n",
       "      <td>44304.000000</td>\n",
       "      <td>44304.000000</td>\n",
       "    </tr>\n",
       "    <tr>\n",
       "      <th>mean</th>\n",
       "      <td>7.130580e+04</td>\n",
       "      <td>1.656023e+04</td>\n",
       "      <td>132.946348</td>\n",
       "      <td>2016.008351</td>\n",
       "    </tr>\n",
       "    <tr>\n",
       "      <th>std</th>\n",
       "      <td>6.254724e+04</td>\n",
       "      <td>1.936608e+04</td>\n",
       "      <td>74.848607</td>\n",
       "      <td>3.156093</td>\n",
       "    </tr>\n",
       "    <tr>\n",
       "      <th>min</th>\n",
       "      <td>0.000000e+00</td>\n",
       "      <td>1.100000e+03</td>\n",
       "      <td>1.000000</td>\n",
       "      <td>2011.000000</td>\n",
       "    </tr>\n",
       "    <tr>\n",
       "      <th>25%</th>\n",
       "      <td>1.990000e+04</td>\n",
       "      <td>7.490000e+03</td>\n",
       "      <td>86.000000</td>\n",
       "      <td>2013.000000</td>\n",
       "    </tr>\n",
       "    <tr>\n",
       "      <th>50%</th>\n",
       "      <td>6.000000e+04</td>\n",
       "      <td>1.100000e+04</td>\n",
       "      <td>116.000000</td>\n",
       "      <td>2016.000000</td>\n",
       "    </tr>\n",
       "    <tr>\n",
       "      <th>75%</th>\n",
       "      <td>1.051940e+05</td>\n",
       "      <td>1.949000e+04</td>\n",
       "      <td>150.000000</td>\n",
       "      <td>2019.000000</td>\n",
       "    </tr>\n",
       "    <tr>\n",
       "      <th>max</th>\n",
       "      <td>1.111111e+06</td>\n",
       "      <td>1.199900e+06</td>\n",
       "      <td>850.000000</td>\n",
       "      <td>2021.000000</td>\n",
       "    </tr>\n",
       "  </tbody>\n",
       "</table>\n",
       "</div>"
      ],
      "text/plain": [
       "            mileage         price            hp          year\n",
       "count  4.430400e+04  4.430400e+04  44304.000000  44304.000000\n",
       "mean   7.130580e+04  1.656023e+04    132.946348   2016.008351\n",
       "std    6.254724e+04  1.936608e+04     74.848607      3.156093\n",
       "min    0.000000e+00  1.100000e+03      1.000000   2011.000000\n",
       "25%    1.990000e+04  7.490000e+03     86.000000   2013.000000\n",
       "50%    6.000000e+04  1.100000e+04    116.000000   2016.000000\n",
       "75%    1.051940e+05  1.949000e+04    150.000000   2019.000000\n",
       "max    1.111111e+06  1.199900e+06    850.000000   2021.000000"
      ]
     },
     "execution_count": 10,
     "metadata": {},
     "output_type": "execute_result"
    }
   ],
   "source": [
    "df.dropna().describe()"
   ]
  },
  {
   "cell_type": "code",
   "execution_count": 11,
   "id": "f58e353f-9f09-4672-84f0-93ed34abac6c",
   "metadata": {
    "scrolled": true
   },
   "outputs": [
    {
     "data": {
      "text/plain": [
       "mileage         0\n",
       "make            0\n",
       "model         143\n",
       "fuel          247\n",
       "gear          182\n",
       "offerType       0\n",
       "price        1533\n",
       "hp             29\n",
       "year            0\n",
       "dtype: int64"
      ]
     },
     "execution_count": 11,
     "metadata": {},
     "output_type": "execute_result"
    }
   ],
   "source": [
    "df.isna().sum()"
   ]
  },
  {
   "cell_type": "code",
   "execution_count": 12,
   "id": "c4cea065-82c8-4944-9d5d-057823b7e18e",
   "metadata": {
    "scrolled": true
   },
   "outputs": [
    {
     "data": {
      "text/plain": [
       "array([[<Axes: title={'center': 'mileage'}>,\n",
       "        <Axes: title={'center': 'price'}>],\n",
       "       [<Axes: title={'center': 'hp'}>, <Axes: title={'center': 'year'}>]],\n",
       "      dtype=object)"
      ]
     },
     "execution_count": 12,
     "metadata": {},
     "output_type": "execute_result"
    },
    {
     "data": {
      "image/png": "[encoded data removed]",
      "text/plain": [
       "<Figure size 640x480 with 4 Axes>"
      ]
     },
     "metadata": {},
     "output_type": "display_data"
    }
   ],
   "source": [
    "df.hist()"
   ]
  },
  {
   "cell_type": "code",
   "execution_count": 13,
   "id": "8ebf3760-9393-438b-9ebb-aa73efd4d569",
   "metadata": {
    "scrolled": true
   },
   "outputs": [
    {
     "name": "stdout",
     "output_type": "stream",
     "text": [
      "1198800.0\n"
     ]
    }
   ],
   "source": [
    "print(df['price'].max() - df['price'].min())"
   ]
  },
  {
   "cell_type": "code",
   "execution_count": 14,
   "id": "d087a0b4-d76d-45b5-9ce1-ce5bb813cfdb",
   "metadata": {
    "scrolled": true
   },
   "outputs": [
    {
     "name": "stdout",
     "output_type": "stream",
     "text": [
      "\n",
      "Путем первых действий, я пыталась найти закономерность, которая дала бы мне понять, почему именно эти\n",
      "машины представленны в датасете, но последнее вычисление убило...\n",
      "\n",
      "Было предположение, что датасет человека, который хотел купить недорогую б\\у машину на механике, но\n",
      "разница в ценнах машин нереальная, либо это вброс и гипотеза имеет место быть, либо слов нет\n",
      "\n"
     ]
    }
   ],
   "source": [
    "conclusion = '''\n",
    "Путем первых действий, я пыталась найти закономерность, которая дала бы мне понять, почему именно эти\n",
    "машины представленны в датасете, но последнее вычисление убило...\n",
    "\n",
    "Было предположение, что датасет человека, который хотел купить недорогую б\\у машину на механике, но\n",
    "разница в ценнах машин нереальная, либо это вброс и гипотеза имеет место быть, либо слов нет\n",
    "'''\n",
    "\n",
    "print(conclusion)"
   ]
  },
  {
   "cell_type": "code",
   "execution_count": 15,
   "id": "0886a3cb-ea9f-4702-b54d-161f409e5dbe",
   "metadata": {
    "scrolled": true
   },
   "outputs": [
    {
     "name": "stdout",
     "output_type": "stream",
     "text": [
      "16565.450525940454\n"
     ]
    }
   ],
   "source": [
    "mean_price = df['price'].mean()\n",
    "print(mean_price)"
   ]
  },
  {
   "cell_type": "code",
   "execution_count": 16,
   "id": "b4e84c45-0dd1-49b8-b2f6-b98c4d07f18c",
   "metadata": {
    "scrolled": true
   },
   "outputs": [
    {
     "name": "stdout",
     "output_type": "stream",
     "text": [
      "(13784, 9)\n"
     ]
    }
   ],
   "source": [
    "filter_rule = df.price > mean_price\n",
    "count_of_expensive_cars = df[filter_rule].shape\n",
    "print(count_of_expensive_cars)"
   ]
  },
  {
   "cell_type": "code",
   "execution_count": 17,
   "id": "67fc4218-53c9-440d-a631-f33813ca6736",
   "metadata": {
    "scrolled": true
   },
   "outputs": [
    {
     "name": "stdout",
     "output_type": "stream",
     "text": [
      "Persentage of expensive car: 0.297036957224437\n"
     ]
    }
   ],
   "source": [
    "print('Persentage of expensive car: ' + str(count_of_expensive_cars[0] / df.shape[0]))"
   ]
  },
  {
   "cell_type": "code",
   "execution_count": 18,
   "id": "9c7e4453-9f27-4e02-ab6f-d72ed62ae1c4",
   "metadata": {
    "scrolled": true
   },
   "outputs": [
    {
     "name": "stdout",
     "output_type": "stream",
     "text": [
      "\n",
      "Ну в целом, тут по-моему уже ясно что эти машины не случайно сюда попали, было бы пару штук..., \n",
      "фильтра на цену при поиске машин точно не стояло, ну да ладно, гипотеза мне нравилась\n",
      "\n",
      "Тогда можно предположить, что это в целом случайно взятая выборка, но всё же меня смущает, то\n",
      "что большинство машин на механике и использованных, возможно случайное совпадение\n",
      "\n"
     ]
    }
   ],
   "source": [
    "conclusion = '''\n",
    "Ну в целом, тут по-моему уже ясно что эти машины не случайно сюда попали, было бы пару штук..., \n",
    "фильтра на цену при поиске машин точно не стояло, ну да ладно, гипотеза мне нравилась\n",
    "\n",
    "Тогда можно предположить, что это в целом случайно взятая выборка, но всё же меня смущает, то\n",
    "что большинство машин на механике и использованных, возможно случайное совпадение\n",
    "'''\n",
    "\n",
    "print(conclusion)"
   ]
  },
  {
   "cell_type": "code",
   "execution_count": 19,
   "id": "c0da3504-25c3-45da-8728-191287feb479",
   "metadata": {
    "scrolled": true
   },
   "outputs": [
    {
     "name": "stdout",
     "output_type": "stream",
     "text": [
      "0.5794418704880939\n"
     ]
    }
   ],
   "source": [
    "filter_rule = (df['gear'] == 'Manual') & (df['offerType'] == 'Used')\n",
    "count_of_target_cars = df[filter_rule].shape\n",
    "\n",
    "percantage_of_target_cars = count_of_target_cars[0] / df.shape[0]\n",
    "print(percantage_of_target_cars)"
   ]
  },
  {
   "cell_type": "code",
   "execution_count": 20,
   "id": "06a4696d-4215-47d6-8955-7aa57628d8bb",
   "metadata": {
    "scrolled": true
   },
   "outputs": [
    {
     "name": "stdout",
     "output_type": "stream",
     "text": [
      "\n",
      "Ага ещё интереснее, посчитала, не поняла, в общем вывод:\n",
      "Выборка скорее всего явялется случайной, конкретной закономерности не выявила\n",
      "\n"
     ]
    }
   ],
   "source": [
    "conclusion = '''\n",
    "Ага ещё интереснее, посчитала, не поняла, в общем вывод:\n",
    "Выборка скорее всего явялется случайной, конкретной закономерности не выявила\n",
    "'''\n",
    "\n",
    "print(conclusion)"
   ]
  },
  {
   "cell_type": "code",
   "execution_count": 21,
   "id": "3e58c636-d440-4736-8ca9-02f88b3eed29",
   "metadata": {
    "scrolled": true
   },
   "outputs": [
    {
     "data": {
      "text/plain": [
       "make\n",
       "Volkswagen    6931\n",
       "Opel          4814\n",
       "Ford          4442\n",
       "Skoda         2889\n",
       "Renault       2830\n",
       "              ... \n",
       "DAF              1\n",
       "Isuzu            1\n",
       "Trucks-Lkw       1\n",
       "Tazzari          1\n",
       "Zhidou           1\n",
       "Name: count, Length: 77, dtype: int64"
      ]
     },
     "execution_count": 21,
     "metadata": {},
     "output_type": "execute_result"
    }
   ],
   "source": [
    "df['make'].value_counts()"
   ]
  },
  {
   "cell_type": "code",
   "execution_count": 22,
   "id": "fa6abfaf-c5f4-400a-bf4e-6a43cf8a8659",
   "metadata": {
    "scrolled": true
   },
   "outputs": [
    {
     "data": {
      "text/plain": [
       "model\n",
       "Golf                         1492\n",
       "Corsa                        1491\n",
       "Fiesta                       1289\n",
       "Astra                        1191\n",
       "Focus                         985\n",
       "                             ... \n",
       "S60 Cross Country               1\n",
       "John Cooper Works Clubman       1\n",
       "323                             1\n",
       "Rodius                          1\n",
       "NV250                           1\n",
       "Name: count, Length: 841, dtype: int64"
      ]
     },
     "execution_count": 22,
     "metadata": {},
     "output_type": "execute_result"
    }
   ],
   "source": [
    "df['model'].value_counts()"
   ]
  },
  {
   "cell_type": "code",
   "execution_count": 23,
   "id": "79afe706-f1f8-4aee-b092-3555f6e42062",
   "metadata": {
    "scrolled": true
   },
   "outputs": [
    {
     "name": "stdout",
     "output_type": "stream",
     "text": [
      "\n",
      "Сдаюсь, закономерности явно нет, либо я что-то упустила\n",
      "\n"
     ]
    }
   ],
   "source": [
    "conclusion = '''\n",
    "Сдаюсь, закономерности явно нет, либо я что-то упустила\n",
    "'''\n",
    "\n",
    "print(conclusion)"
   ]
  },
  {
   "cell_type": "markdown",
   "id": "338de16b",
   "metadata": {},
   "source": [
    "3. Переименуйте столбец `offerType` под стандартное название"
   ]
  },
  {
   "cell_type": "code",
   "execution_count": 24,
   "id": "2789eee4",
   "metadata": {},
   "outputs": [],
   "source": [
    "df.rename(columns={'offerType':'offer_type'}, inplace=True)"
   ]
  },
  {
   "cell_type": "code",
   "execution_count": 25,
   "id": "6b76476b-87da-48e3-a317-048d367df384",
   "metadata": {},
   "outputs": [
    {
     "data": {
      "text/html": [
       "<div>\n",
       "<style scoped>\n",
       "    .dataframe tbody tr th:only-of-type {\n",
       "        vertical-align: middle;\n",
       "    }\n",
       "\n",
       "    .dataframe tbody tr th {\n",
       "        vertical-align: top;\n",
       "    }\n",
       "\n",
       "    .dataframe thead th {\n",
       "        text-align: right;\n",
       "    }\n",
       "</style>\n",
       "<table border=\"1\" class=\"dataframe\">\n",
       "  <thead>\n",
       "    <tr style=\"text-align: right;\">\n",
       "      <th></th>\n",
       "      <th>mileage</th>\n",
       "      <th>make</th>\n",
       "      <th>model</th>\n",
       "      <th>fuel</th>\n",
       "      <th>gear</th>\n",
       "      <th>offer_type</th>\n",
       "      <th>price</th>\n",
       "      <th>hp</th>\n",
       "      <th>year</th>\n",
       "    </tr>\n",
       "  </thead>\n",
       "  <tbody>\n",
       "    <tr>\n",
       "      <th>0</th>\n",
       "      <td>235000</td>\n",
       "      <td>BMW</td>\n",
       "      <td>316</td>\n",
       "      <td>Diesel</td>\n",
       "      <td>Manual</td>\n",
       "      <td>Used</td>\n",
       "      <td>6800.0</td>\n",
       "      <td>116.0</td>\n",
       "      <td>2011</td>\n",
       "    </tr>\n",
       "    <tr>\n",
       "      <th>1</th>\n",
       "      <td>92800</td>\n",
       "      <td>Volkswagen</td>\n",
       "      <td>Golf</td>\n",
       "      <td>Gasoline</td>\n",
       "      <td>Manual</td>\n",
       "      <td>Used</td>\n",
       "      <td>6877.0</td>\n",
       "      <td>122.0</td>\n",
       "      <td>2011</td>\n",
       "    </tr>\n",
       "    <tr>\n",
       "      <th>2</th>\n",
       "      <td>149300</td>\n",
       "      <td>SEAT</td>\n",
       "      <td>Exeo</td>\n",
       "      <td>Gasoline</td>\n",
       "      <td>Manual</td>\n",
       "      <td>Used</td>\n",
       "      <td>6900.0</td>\n",
       "      <td>160.0</td>\n",
       "      <td>2011</td>\n",
       "    </tr>\n",
       "    <tr>\n",
       "      <th>3</th>\n",
       "      <td>96200</td>\n",
       "      <td>Renault</td>\n",
       "      <td>Megane</td>\n",
       "      <td>Gasoline</td>\n",
       "      <td>Manual</td>\n",
       "      <td>Used</td>\n",
       "      <td>6950.0</td>\n",
       "      <td>110.0</td>\n",
       "      <td>2011</td>\n",
       "    </tr>\n",
       "    <tr>\n",
       "      <th>4</th>\n",
       "      <td>156000</td>\n",
       "      <td>Peugeot</td>\n",
       "      <td>308</td>\n",
       "      <td>Gasoline</td>\n",
       "      <td>Manual</td>\n",
       "      <td>Used</td>\n",
       "      <td>6950.0</td>\n",
       "      <td>156.0</td>\n",
       "      <td>2011</td>\n",
       "    </tr>\n",
       "  </tbody>\n",
       "</table>\n",
       "</div>"
      ],
      "text/plain": [
       "   mileage        make   model      fuel    gear offer_type   price     hp  \\\n",
       "0   235000         BMW     316    Diesel  Manual       Used  6800.0  116.0   \n",
       "1    92800  Volkswagen    Golf  Gasoline  Manual       Used  6877.0  122.0   \n",
       "2   149300        SEAT    Exeo  Gasoline  Manual       Used  6900.0  160.0   \n",
       "3    96200     Renault  Megane  Gasoline  Manual       Used  6950.0  110.0   \n",
       "4   156000     Peugeot     308  Gasoline  Manual       Used  6950.0  156.0   \n",
       "\n",
       "   year  \n",
       "0  2011  \n",
       "1  2011  \n",
       "2  2011  \n",
       "3  2011  \n",
       "4  2011  "
      ]
     },
     "execution_count": 25,
     "metadata": {},
     "output_type": "execute_result"
    }
   ],
   "source": [
    "df.head()"
   ]
  },
  {
   "cell_type": "markdown",
   "id": "c2233e92",
   "metadata": {},
   "source": [
    "### Работа с дубликатами данных"
   ]
  },
  {
   "cell_type": "markdown",
   "id": "e000dc9b",
   "metadata": {},
   "source": [
    "4. Необходимо вывести на экран количество дублированных строк в данных, если таковые имеются, а также избавиться от них. Не забудьте сбросить индекс в датафрейме при необходимости."
   ]
  },
  {
   "cell_type": "code",
   "execution_count": 26,
   "id": "3af3f27b",
   "metadata": {},
   "outputs": [
    {
     "data": {
      "text/plain": [
       "2003"
      ]
     },
     "execution_count": 26,
     "metadata": {},
     "output_type": "execute_result"
    }
   ],
   "source": [
    "df.duplicated().sum()"
   ]
  },
  {
   "cell_type": "code",
   "execution_count": 27,
   "id": "b70842f8-0c03-438c-b7c9-172afb11c8cc",
   "metadata": {},
   "outputs": [
    {
     "data": {
      "text/plain": [
       "0"
      ]
     },
     "execution_count": 27,
     "metadata": {},
     "output_type": "execute_result"
    }
   ],
   "source": [
    "df.drop_duplicates(inplace=True)\n",
    "df.reset_index(drop=True, inplace=True)\n",
    "df.duplicated().sum()"
   ]
  },
  {
   "cell_type": "code",
   "execution_count": 29,
   "id": "1f880e73-4218-4728-9c08-a70caf8ab463",
   "metadata": {},
   "outputs": [
    {
     "name": "stdout",
     "output_type": "stream",
     "text": [
      "\n",
      "И тут я поняла, что то, что я делала до этого могло быть абсолютно бесполезным, так как я не почистила\n",
      "датасет от дубликатов, ну ладно, сейчас проверим основные предположения\n",
      "\n",
      "Persentage of expensive car: 0.31043646682581866\n",
      "Persentage of target car: 0.5876537092923743\n",
      "\n",
      "Не, всё по прежнему\n",
      "\n"
     ]
    }
   ],
   "source": [
    "thought = '''\n",
    "И тут я поняла, что то, что я делала до этого могло быть абсолютно бесполезным, так как я не почистила\n",
    "датасет от дубликатов, ну ладно, сейчас проверим основные предположения\n",
    "'''\n",
    "\n",
    "filter_rule = (df['gear'] == 'Manual') & (df['offer_type'] == 'Used')\n",
    "count_of_target_cars = df[filter_rule].shape\n",
    "\n",
    "print(thought)\n",
    "\n",
    "print('Persentage of expensive car: ' + str(count_of_expensive_cars[0] / df.shape[0]))\n",
    "\n",
    "percantage_of_target_cars = count_of_target_cars[0] / df.shape[0]\n",
    "print('Persentage of target car: ' + str(percantage_of_target_cars))\n",
    "\n",
    "conclusion = '''\n",
    "Не, всё по прежнему\n",
    "'''\n",
    "\n",
    "print(conclusion)"
   ]
  },
  {
   "cell_type": "markdown",
   "id": "755d8add",
   "metadata": {},
   "source": [
    "### Работа с пропусками"
   ]
  },
  {
   "cell_type": "markdown",
   "id": "af8f2cd8",
   "metadata": {},
   "source": [
    "5. Выведите на экран количество пропусков в каждом столбце, опишите их, почему они могут возникнуть и как их возможно исправить"
   ]
  },
  {
   "cell_type": "code",
   "execution_count": 40,
   "id": "ac4e9021",
   "metadata": {},
   "outputs": [
    {
     "data": {
      "text/plain": [
       "(44402, 9)"
      ]
     },
     "execution_count": 40,
     "metadata": {},
     "output_type": "execute_result"
    }
   ],
   "source": [
    "df.shape"
   ]
  },
  {
   "cell_type": "code",
   "execution_count": 41,
   "id": "239bd53b-ebd3-4e8e-88a2-301f32de7bc7",
   "metadata": {},
   "outputs": [
    {
     "data": {
      "text/plain": [
       "mileage          0\n",
       "make             0\n",
       "model          137\n",
       "fuel           247\n",
       "gear           175\n",
       "offer_type       0\n",
       "price         1520\n",
       "hp              24\n",
       "year             0\n",
       "dtype: int64"
      ]
     },
     "execution_count": 41,
     "metadata": {},
     "output_type": "execute_result"
    }
   ],
   "source": [
    "df.isna().sum()"
   ]
  },
  {
   "cell_type": "code",
   "execution_count": 1,
   "id": "dbc0a97b-5237-446c-a48c-b386beaa46ee",
   "metadata": {},
   "outputs": [
    {
     "name": "stdout",
     "output_type": "stream",
     "text": [
      "\n",
      "По большей части эти пропуски выглядят, как просто пропуски, без какой-либо закономерности.\n",
      "\n",
      "Но стоит заметить, что model, fuel и gear не указываются почти с одинаковой частотой, \n",
      "относительно общего колличества элементов, так что вполне возможно, \n",
      "что эти атрибуты в сделке просто не учитывались, так как сделка происходила с рук\n",
      "\n",
      "Чаще всего не указывали цену, странно, непонятно, но в целом возможно цена просто не расскрывалась \n",
      "для объекта, который получал эти данные. Хотя это и не выглядит разумно, так как мне кажется, \n",
      "что этот атрибут тут самый важный иначе зачем этот датасет. \n",
      "\n",
      "Но в целом, если условиться, что мы данные тянем из какого-нибудь авито, \n",
      "то цену могли просто не указать как и другие атрибуты, которые отсутсвуют\n",
      "\n"
     ]
    }
   ],
   "source": [
    "conclusion = '''\n",
    "По большей части эти пропуски выглядят, как просто пропуски, без какой-либо закономерности.\n",
    "\n",
    "Но стоит заметить, что model, fuel и gear не указываются почти с одинаковой частотой, \n",
    "относительно общего колличества элементов, так что вполне возможно, \n",
    "что эти атрибуты в сделке просто не учитывались, так как сделка происходила с рук\n",
    "\n",
    "Чаще всего не указывали цену, странно, непонятно, но в целом возможно цена просто не расскрывалась \n",
    "для объекта, который получал эти данные. Хотя это и не выглядит разумно, так как мне кажется, \n",
    "что этот атрибут тут самый важный иначе зачем этот датасет. \n",
    "\n",
    "Но в целом, если условиться, что мы данные тянем из какого-нибудь авито, \n",
    "то цену могли просто не указать как и другие атрибуты, которые отсутсвуют\n",
    "'''\n",
    "\n",
    "print(conclusion)"
   ]
  },
  {
   "cell_type": "markdown",
   "id": "cf38b8c0",
   "metadata": {},
   "source": [
    "6. Заполните пропуски в `model`,`fuel`,`gear`  \n",
    "   <i>Напоминание: пропуски нужно заполнить <b>качественно</b> (т.е. не удалить и не заполнить значением 'Unknown' все NaN)</i>"
   ]
  },
  {
   "cell_type": "code",
   "execution_count": 30,
   "id": "ee7b5b29",
   "metadata": {},
   "outputs": [
    {
     "name": "stdout",
     "output_type": "stream",
     "text": [
      "\n",
      "Ход мысли такой: мы находим параметры, по которым мы можем найти недостающий атрибут\n",
      "Если вообще не получается заполнить атрибут таким образом, то удаляем его..., но перед этим нужно\n",
      "проверить на сколько это будет правильно\n",
      "\n",
      "------------------------------------------------------------------\n",
      "Комбинации:\n",
      "make + model + year = fuel | gear\n",
      "make + hp + year = fuel | gear | model\n",
      "\n",
      "make + fuel + gear + year + hp = model\n",
      "\n",
      "------------------------------------------------------------------\n",
      "Нахождение комбинаций:\n",
      "fuel = make + model + year (+)\n",
      "rule = df['make'] == current & df['model'] == current & df['year'] == current\n",
      "\n",
      "gear = make + model + year (+)\n",
      "rule = df['make'] == current & df['model'] == current & df['year'] == current\n",
      "\n",
      "model = make + fuel + gear + year + hp (+)\n",
      "rule = df['make'] == current & df['fuel'] == current & df['gear'] == current & df['year'] == current & df['hp'] == current\n",
      "------------------------------------------------------------------\n",
      "model = make + hp + year (+-)\n",
      "rule = df['make'] == current & df['hp'] == current & df['year'] == current\n",
      "\n",
      "gear = make + hp + year (+-)\n",
      "rule = df['make'] == current & df['hp'] == current & df['year'] == current\n",
      "\n",
      "fuel = make + hp + year (+-)\n",
      "rule = df['make'] == current & df['hp'] == current & df['year'] == current\n",
      "\n",
      "------------------------------------------------------------------\n",
      "По сути после этого большинство заполниться, но всё же если не заполниться, то просто чистим их,\n",
      "иначе это будут данные далекие от реальности\n",
      "\n",
      "------------------------------------------------------------------\n",
      "Доп. проверка:\n",
      "model | gear | fuel = make | hp | year\n",
      "rule = df['make'] == current | df['hp'] == current | df['year'] == current\n",
      "\n",
      "\n",
      "Код для решения получиться ситуативным, по сути его можно сделать модульным, но это займет\n",
      "больше времени, да и в целом не требуется заданием, так что будет так\n",
      "\n"
     ]
    }
   ],
   "source": [
    "conclusion = '''\n",
    "Ход мысли такой: мы находим параметры, по которым мы можем найти недостающий атрибут\n",
    "Если вообще не получается заполнить атрибут таким образом, то удаляем его..., но перед этим нужно\n",
    "проверить на сколько это будет правильно\n",
    "\n",
    "------------------------------------------------------------------\n",
    "Комбинации:\n",
    "make + model + year = fuel | gear\n",
    "make + hp + year = fuel | gear | model\n",
    "\n",
    "make + fuel + gear + year + hp = model\n",
    "\n",
    "------------------------------------------------------------------\n",
    "Нахождение комбинаций:\n",
    "fuel = make + model + year (+)\n",
    "rule = df['make'] == current & df['model'] == current & df['year'] == current\n",
    "\n",
    "gear = make + model + year (+)\n",
    "rule = df['make'] == current & df['model'] == current & df['year'] == current\n",
    "\n",
    "model = make + fuel + gear + year + hp (+)\n",
    "rule = df['make'] == current & df['fuel'] == current & df['gear'] == current & df['year'] == current & df['hp'] == current\n",
    "------------------------------------------------------------------\n",
    "model = make + hp + year (+-)\n",
    "rule = df['make'] == current & df['hp'] == current & df['year'] == current\n",
    "\n",
    "gear = make + hp + year (+-)\n",
    "rule = df['make'] == current & df['hp'] == current & df['year'] == current\n",
    "\n",
    "fuel = make + hp + year (+-)\n",
    "rule = df['make'] == current & df['hp'] == current & df['year'] == current\n",
    "\n",
    "------------------------------------------------------------------\n",
    "По сути после этого большинство заполниться, но всё же если не заполниться, то просто чистим их,\n",
    "иначе это будут данные далекие от реальности\n",
    "\n",
    "------------------------------------------------------------------\n",
    "Доп. проверка:\n",
    "model | gear | fuel = make | hp | year\n",
    "rule = df['make'] == current | df['hp'] == current | df['year'] == current\n",
    "\n",
    "\n",
    "Код для решения получиться ситуативным, по сути его можно сделать модульным, но это займет\n",
    "больше времени, да и в целом не требуется заданием, так что будет так\n",
    "'''\n",
    "\n",
    "print(conclusion)"
   ]
  },
  {
   "cell_type": "code",
   "execution_count": 45,
   "id": "ea8a8327-b762-4194-9092-dbd40f36c67e",
   "metadata": {},
   "outputs": [
    {
     "data": {
      "text/html": [
       "<div>\n",
       "<style scoped>\n",
       "    .dataframe tbody tr th:only-of-type {\n",
       "        vertical-align: middle;\n",
       "    }\n",
       "\n",
       "    .dataframe tbody tr th {\n",
       "        vertical-align: top;\n",
       "    }\n",
       "\n",
       "    .dataframe thead th {\n",
       "        text-align: right;\n",
       "    }\n",
       "</style>\n",
       "<table border=\"1\" class=\"dataframe\">\n",
       "  <thead>\n",
       "    <tr style=\"text-align: right;\">\n",
       "      <th></th>\n",
       "      <th>mileage</th>\n",
       "      <th>make</th>\n",
       "      <th>model</th>\n",
       "      <th>fuel</th>\n",
       "      <th>gear</th>\n",
       "      <th>offer_type</th>\n",
       "      <th>price</th>\n",
       "      <th>hp</th>\n",
       "      <th>year</th>\n",
       "    </tr>\n",
       "  </thead>\n",
       "  <tbody>\n",
       "    <tr>\n",
       "      <th>0</th>\n",
       "      <td>235000</td>\n",
       "      <td>BMW</td>\n",
       "      <td>316</td>\n",
       "      <td>Diesel</td>\n",
       "      <td>Manual</td>\n",
       "      <td>Used</td>\n",
       "      <td>6800.0</td>\n",
       "      <td>116.0</td>\n",
       "      <td>2011</td>\n",
       "    </tr>\n",
       "    <tr>\n",
       "      <th>1</th>\n",
       "      <td>92800</td>\n",
       "      <td>Volkswagen</td>\n",
       "      <td>Golf</td>\n",
       "      <td>Gasoline</td>\n",
       "      <td>Manual</td>\n",
       "      <td>Used</td>\n",
       "      <td>6877.0</td>\n",
       "      <td>122.0</td>\n",
       "      <td>2011</td>\n",
       "    </tr>\n",
       "    <tr>\n",
       "      <th>2</th>\n",
       "      <td>149300</td>\n",
       "      <td>SEAT</td>\n",
       "      <td>Exeo</td>\n",
       "      <td>Gasoline</td>\n",
       "      <td>Manual</td>\n",
       "      <td>Used</td>\n",
       "      <td>6900.0</td>\n",
       "      <td>160.0</td>\n",
       "      <td>2011</td>\n",
       "    </tr>\n",
       "    <tr>\n",
       "      <th>3</th>\n",
       "      <td>96200</td>\n",
       "      <td>Renault</td>\n",
       "      <td>Megane</td>\n",
       "      <td>Gasoline</td>\n",
       "      <td>Manual</td>\n",
       "      <td>Used</td>\n",
       "      <td>6950.0</td>\n",
       "      <td>110.0</td>\n",
       "      <td>2011</td>\n",
       "    </tr>\n",
       "    <tr>\n",
       "      <th>4</th>\n",
       "      <td>156000</td>\n",
       "      <td>Peugeot</td>\n",
       "      <td>308</td>\n",
       "      <td>Gasoline</td>\n",
       "      <td>Manual</td>\n",
       "      <td>Used</td>\n",
       "      <td>6950.0</td>\n",
       "      <td>156.0</td>\n",
       "      <td>2011</td>\n",
       "    </tr>\n",
       "  </tbody>\n",
       "</table>\n",
       "</div>"
      ],
      "text/plain": [
       "   mileage        make   model      fuel    gear offer_type   price     hp  \\\n",
       "0   235000         BMW     316    Diesel  Manual       Used  6800.0  116.0   \n",
       "1    92800  Volkswagen    Golf  Gasoline  Manual       Used  6877.0  122.0   \n",
       "2   149300        SEAT    Exeo  Gasoline  Manual       Used  6900.0  160.0   \n",
       "3    96200     Renault  Megane  Gasoline  Manual       Used  6950.0  110.0   \n",
       "4   156000     Peugeot     308  Gasoline  Manual       Used  6950.0  156.0   \n",
       "\n",
       "   year  \n",
       "0  2011  \n",
       "1  2011  \n",
       "2  2011  \n",
       "3  2011  \n",
       "4  2011  "
      ]
     },
     "execution_count": 45,
     "metadata": {},
     "output_type": "execute_result"
    }
   ],
   "source": [
    "df.head()"
   ]
  },
  {
   "cell_type": "code",
   "execution_count": 46,
   "id": "f2138182-a844-4d2e-98d7-391e31e742e3",
   "metadata": {},
   "outputs": [
    {
     "name": "stdout",
     "output_type": "stream",
     "text": [
      "--------------------------\n",
      "mileage          0\n",
      "make             0\n",
      "model          137\n",
      "fuel           247\n",
      "gear           175\n",
      "offer_type       0\n",
      "price         1520\n",
      "hp              24\n",
      "year             0\n",
      "dtype: int64\n",
      "Count of na found cars: 559\n",
      "--------------------------\n",
      "Count of updates: 559\n",
      "--------------------------\n",
      "mileage          0\n",
      "make             0\n",
      "model            0\n",
      "fuel             0\n",
      "gear             0\n",
      "offer_type       0\n",
      "price         1520\n",
      "hp              24\n",
      "year             0\n",
      "dtype: int64\n",
      "Count of not found cars: 0\n"
     ]
    }
   ],
   "source": [
    "def fill_na_custom(df_main: pd.DataFrame) -> pd.DataFrame:\n",
    "    # Нужно получить датафрейм с NaN внутри\n",
    "    df_nas = df_main[(df_main['model'].isna()) | (df_main['fuel'].isna()) | (df_main['gear'].isna())]\n",
    "    # nas = na`s\n",
    "    df_nas = df_nas.reset_index(drop=False)\n",
    "    # print(df_nas.head())\n",
    "    # print(df_nas.iloc[0]['index'])\n",
    "    # print(df_nas.loc[df_nas.iloc[0]['index']])\n",
    "    # print(df_nas.shape)\n",
    "    # print(df_nas.duplicated().sum())\n",
    "    # print(df_nas.isna().sum())\n",
    "\n",
    "    count_of_updates = 0\n",
    "    for index in range(df_nas.shape[0]):\n",
    "        car = df_nas.iloc[index] # Присваиваем переменной массив с данными о текущей машине\n",
    "        # print(pd.isna(car.fuel))\n",
    "        ratio_by_atribute = { # Коэфициент для того, чтобы понимать нужно менять занчение или нет\n",
    "            'model': 0,\n",
    "            'fuel': 0,\n",
    "            'gear': 0,\n",
    "        }\n",
    "\n",
    "        main_df_index = car['index']\n",
    "        # print(main_df_index)\n",
    "        \n",
    "        if pd.isna(car.model):\n",
    "            ratio_by_atribute['model'] = -1 # Изменяем значени атрибута\n",
    "\n",
    "            # Фильтр по которому ищется значение\n",
    "            # print(df['make'] == car.make)\n",
    "            rule = (df['make'] == car.make) & (df['fuel'] == car.fuel) & (df['gear'] == car.gear) & (df['year'] == car.year) & (df['hp'] == car.hp) & (pd.notna(df['model'])) \n",
    "            new_model = df[rule]\n",
    "            \n",
    "            if not new_model.empty:  # Если нашлось, то меняем обратно коэф и заменяем в исходном df\n",
    "                new_model = df[rule].iloc[0].model\n",
    "                ratio_by_atribute['model'] = 0\n",
    "\n",
    "                # print(\"Changed 1\")\n",
    "                df_main.at[main_df_index, 'model'] = new_model\n",
    "                count_of_updates += 1\n",
    "        \n",
    "        if pd.isna(car.fuel):\n",
    "            ratio_by_atribute['fuel'] = -1\n",
    "            # print((df['make'] == car.make) & (df['model'] == car.model) & (df['year'] == car.year) & (pd.notna(df['fuel'])))\n",
    "            rule = (df['make'] == car.make) & (df['model'] == car.model) & (df['year'] == car.year) & (pd.notna(df['fuel']))\n",
    "            new_fuel = df[rule]\n",
    "            # print(new_fuel) # Тут я выявил, что даже, если все параметры совпдают не факт, что машина на бензине оно и логично....\n",
    "            \n",
    "            if not new_fuel.empty:\n",
    "                new_fuel = df[rule].iloc[0].fuel\n",
    "                ratio_by_atribute['fuel'] = 0\n",
    "\n",
    "                # print(\"Changed 2\")\n",
    "                df_main.at[main_df_index, 'fuel'] = new_fuel\n",
    "                count_of_updates += 1\n",
    "        \n",
    "        if pd.isna(car.gear):\n",
    "            # print(\"HEREEEEEEEEEEEEEEEEEEE\")\n",
    "            ratio_by_atribute['gear'] = -1\n",
    "            rule = (df['make'] == car.make) & (df['model'] == car.model) & (df['year'] == car.year) & (pd.notna(df['gear']))\n",
    "            new_gear = df[rule]\n",
    "            # print(new_gear)\n",
    "            \n",
    "            if not new_gear.empty:\n",
    "                new_gear = df[rule].iloc[0].gear\n",
    "                # print(\"GEAR CHANGE\")\n",
    "                # print(main_df_index)\n",
    "                # print(df_main.iloc[main_df_index])\n",
    "                # print(df_main.iloc[main_df_index].gear)\n",
    "                \n",
    "                ratio_by_atribute['gear'] = 0\n",
    "\n",
    "                # print(\"Changed 3\")\n",
    "                df_main.at[main_df_index, 'gear'] = new_gear\n",
    "                count_of_updates += 1\n",
    "\n",
    "        # Фильтр по менее строгому правилу\n",
    "        for atribute, ratio in ratio_by_atribute.items():\n",
    "            if ratio == -1:\n",
    "                rule = (df['make'] == car.make) & (df['hp'] == car.hp) & (df['year'] == car.year) & (pd.notna(df[atribute]))\n",
    "                new_value = df[rule]\n",
    "                if not new_value.empty:\n",
    "                    new_value = df[rule].iloc[0][atribute]\n",
    "                    # print(\"Changed 4\", main_df_index, atribute, new_value)\n",
    "                    df_main.at[main_df_index, atribute] = new_value\n",
    "                    # print(df_main.loc[main_df_index, atribute])\n",
    "                    ratio_by_atribute[atribute] = 0\n",
    "                    count_of_updates += 1\n",
    "\n",
    "        # Фильтр по вообще не строгому правилу\n",
    "        for atribute, ratio in ratio_by_atribute.items():\n",
    "\n",
    "            if ratio == -1:\n",
    "                rule = ((df['make'] == car.make) | (df['hp'] == car.hp) | (df['year'] == car.year) & (pd.notna(df[atribute])))\n",
    "                new_value = df[rule]\n",
    "                if not new_value.empty:\n",
    "                    new_value = df[rule].iloc[0][atribute]\n",
    "                    # print(\"Changed 5\")\n",
    "                    df_main.at[main_df_index, atribute] = new_value\n",
    "                    count_of_updates += 1\n",
    "        # print(df_main.isna().sum())\n",
    "                \n",
    "    print(\"Count of updates: \" + str(count_of_updates))\n",
    "    return df_main\n",
    "    \n",
    "\n",
    "def main(df: pd.DataFrame) -> pd.DataFrame:\n",
    "    result = fill_na_custom(df)\n",
    "    \n",
    "    return result\n",
    "\n",
    "\n",
    "df_not_filled = df\n",
    "print('--------------------------')\n",
    "print(df_not_filled.isna().sum())\n",
    "sum_of_na_cars = df_not_filled.isna().model.sum() + df_not_filled.isna().fuel.sum() + df_not_filled.isna().gear.sum()\n",
    "print(\"Count of na found cars: \" + str(sum_of_na_cars))\n",
    "print('--------------------------')\n",
    "#print(df_not_filled.head())\n",
    "\n",
    "# Test\n",
    "#rule_nas = df.dropna()\n",
    "#rule_nas.head()\n",
    "#df.isna().sum()\n",
    "#df_nas = df[rule_nas]\n",
    "#df_nas.head()\n",
    "\n",
    "# Main\n",
    "df_new = main(df_not_filled)\n",
    "print('--------------------------')\n",
    "print(df_new.isna().sum())\n",
    "sum_of_not_changed = df_new.isna().model.sum() + df_new.isna().fuel.sum() + df_new.isna().gear.sum()\n",
    "print(\"Count of not found cars: \" + str(sum_of_not_changed))"
   ]
  },
  {
   "cell_type": "markdown",
   "id": "34abbb3c",
   "metadata": {},
   "source": [
    "7. Удалите оставшиеся пропуски в столбцах `hp` и `price`."
   ]
  },
  {
   "cell_type": "code",
   "execution_count": 48,
   "id": "1ea4fbe9",
   "metadata": {},
   "outputs": [],
   "source": [
    "df_new.dropna(subset=['hp', 'price'], inplace=True)"
   ]
  },
  {
   "cell_type": "markdown",
   "id": "0b82e780",
   "metadata": {},
   "source": [
    "Проверьте, все ли пропуски точно удалились из датафрейма"
   ]
  },
  {
   "cell_type": "code",
   "execution_count": 50,
   "id": "dd60f423",
   "metadata": {
    "scrolled": true
   },
   "outputs": [
    {
     "data": {
      "text/plain": [
       "mileage       0\n",
       "make          0\n",
       "model         0\n",
       "fuel          0\n",
       "gear          0\n",
       "offer_type    0\n",
       "price         0\n",
       "hp            0\n",
       "year          0\n",
       "dtype: int64"
      ]
     },
     "execution_count": 50,
     "metadata": {},
     "output_type": "execute_result"
    }
   ],
   "source": [
    "df_new.isna().sum()"
   ]
  },
  {
   "cell_type": "markdown",
   "id": "317d4936",
   "metadata": {},
   "source": [
    "8. Оцените количество уникальных марок автомобилей (производителей) с помощью метода unique() и выведите их количество числом (пожалуйста, не считайте вручную)"
   ]
  },
  {
   "cell_type": "code",
   "execution_count": 52,
   "id": "ec24e7b9",
   "metadata": {},
   "outputs": [
    {
     "data": {
      "text/plain": [
       "76"
      ]
     },
     "execution_count": 52,
     "metadata": {},
     "output_type": "execute_result"
    }
   ],
   "source": [
    "df_new['make'].unique().size"
   ]
  },
  {
   "cell_type": "markdown",
   "id": "99d2f0d7",
   "metadata": {},
   "source": [
    "9. Выведите топ 20 марок автомобилей (производителей) по количеству объявлений с помощью метода value_counts()"
   ]
  },
  {
   "cell_type": "code",
   "execution_count": 54,
   "id": "0dcb3891",
   "metadata": {},
   "outputs": [
    {
     "data": {
      "text/plain": [
       "make\n",
       "Volkswagen       6510\n",
       "Opel             4455\n",
       "Ford             4114\n",
       "Skoda            2665\n",
       "Renault          2610\n",
       "Audi             2479\n",
       "BMW              2296\n",
       "Mercedes-Benz    2217\n",
       "SEAT             1773\n",
       "Hyundai          1688\n",
       "Fiat             1435\n",
       "Peugeot          1136\n",
       "Toyota           1106\n",
       "Kia               937\n",
       "smart             907\n",
       "Citroen           888\n",
       "Volvo             745\n",
       "Nissan            705\n",
       "Mazda             677\n",
       "Dacia             630\n",
       "Name: count, dtype: int64"
      ]
     },
     "execution_count": 54,
     "metadata": {},
     "output_type": "execute_result"
    }
   ],
   "source": [
    "df_new['make'].value_counts().head(20)"
   ]
  },
  {
   "cell_type": "markdown",
   "id": "12a24658",
   "metadata": {},
   "source": [
    "### Группировка данных"
   ]
  },
  {
   "cell_type": "markdown",
   "id": "dd49bf38",
   "metadata": {},
   "source": [
    "10. Сгруппируйте данные по столбцу `make`, выведите для каждого производителя среднюю стоимость их автомобиля, а также среднее число лошадиных сил и отсортируйте по убыванию столбца `price`. Отобразите только топ 20 самых дорогих производителей. Напишите вывод, всё ли в порядке с полученными данными или Вас что-то смущает"
   ]
  },
  {
   "cell_type": "code",
   "execution_count": 61,
   "id": "0f3c7394",
   "metadata": {},
   "outputs": [
    {
     "name": "stdout",
     "output_type": "stream",
     "text": [
      "           make     price_mean     hp_mean\n",
      "0       Maybach  450479.333333  543.000000\n",
      "1       Ferrari  324028.181818  693.909091\n",
      "2   Lamborghini  305698.777778  690.111111\n",
      "3       McLaren  212474.000000  654.300000\n",
      "4   Rolls-Royce  194900.000000  591.500000\n",
      "5       Bentley  192123.307692  546.615385\n",
      "6         Aston  163442.960000  536.200000\n",
      "7      Corvette  110160.000000  687.000000\n",
      "8       Porsche   89858.615044  412.340708\n",
      "9        FISKER   69900.000000  408.000000\n",
      "10     Maserati   69118.818182  376.363636\n",
      "11       Alpina   66046.300000  443.000000\n",
      "12     Polestar   64150.000000  408.000000\n",
      "13        Tesla   62866.681818  490.500000\n",
      "14       Morgan   61950.000000  177.000000\n",
      "15       Alpine   53783.000000  244.800000\n",
      "16         Land   51287.433121  246.070064\n",
      "17          RAM   47945.000000  401.000000\n",
      "18     Cadillac   45032.142857  348.285714\n",
      "19        Dodge   44968.818182  395.636364\n"
     ]
    }
   ],
   "source": [
    "group = df_new.groupby(by='make', as_index=False).agg(price_mean = ('price','mean'),\n",
    "                                                 hp_mean = ('hp','mean'))\n",
    "sorted = group.sort_values(by='price_mean', ascending=False).reset_index(drop=True)\n",
    "\n",
    "print(sorted.head(20))"
   ]
  },
  {
   "cell_type": "code",
   "execution_count": 63,
   "id": "f321069a-5894-4b6c-acbc-0dcea1462598",
   "metadata": {},
   "outputs": [
    {
     "data": {
      "text/html": [
       "<div>\n",
       "<style scoped>\n",
       "    .dataframe tbody tr th:only-of-type {\n",
       "        vertical-align: middle;\n",
       "    }\n",
       "\n",
       "    .dataframe tbody tr th {\n",
       "        vertical-align: top;\n",
       "    }\n",
       "\n",
       "    .dataframe thead th {\n",
       "        text-align: right;\n",
       "    }\n",
       "</style>\n",
       "<table border=\"1\" class=\"dataframe\">\n",
       "  <thead>\n",
       "    <tr style=\"text-align: right;\">\n",
       "      <th></th>\n",
       "      <th>mileage</th>\n",
       "      <th>make</th>\n",
       "      <th>model</th>\n",
       "      <th>fuel</th>\n",
       "      <th>gear</th>\n",
       "      <th>offer_type</th>\n",
       "      <th>price</th>\n",
       "      <th>hp</th>\n",
       "      <th>year</th>\n",
       "    </tr>\n",
       "  </thead>\n",
       "  <tbody>\n",
       "    <tr>\n",
       "      <th>0</th>\n",
       "      <td>235000</td>\n",
       "      <td>BMW</td>\n",
       "      <td>316</td>\n",
       "      <td>Diesel</td>\n",
       "      <td>Manual</td>\n",
       "      <td>Used</td>\n",
       "      <td>6800.0</td>\n",
       "      <td>116.0</td>\n",
       "      <td>2011</td>\n",
       "    </tr>\n",
       "    <tr>\n",
       "      <th>1</th>\n",
       "      <td>92800</td>\n",
       "      <td>Volkswagen</td>\n",
       "      <td>Golf</td>\n",
       "      <td>Gasoline</td>\n",
       "      <td>Manual</td>\n",
       "      <td>Used</td>\n",
       "      <td>6877.0</td>\n",
       "      <td>122.0</td>\n",
       "      <td>2011</td>\n",
       "    </tr>\n",
       "    <tr>\n",
       "      <th>2</th>\n",
       "      <td>149300</td>\n",
       "      <td>SEAT</td>\n",
       "      <td>Exeo</td>\n",
       "      <td>Gasoline</td>\n",
       "      <td>Manual</td>\n",
       "      <td>Used</td>\n",
       "      <td>6900.0</td>\n",
       "      <td>160.0</td>\n",
       "      <td>2011</td>\n",
       "    </tr>\n",
       "    <tr>\n",
       "      <th>3</th>\n",
       "      <td>96200</td>\n",
       "      <td>Renault</td>\n",
       "      <td>Megane</td>\n",
       "      <td>Gasoline</td>\n",
       "      <td>Manual</td>\n",
       "      <td>Used</td>\n",
       "      <td>6950.0</td>\n",
       "      <td>110.0</td>\n",
       "      <td>2011</td>\n",
       "    </tr>\n",
       "    <tr>\n",
       "      <th>4</th>\n",
       "      <td>156000</td>\n",
       "      <td>Peugeot</td>\n",
       "      <td>308</td>\n",
       "      <td>Gasoline</td>\n",
       "      <td>Manual</td>\n",
       "      <td>Used</td>\n",
       "      <td>6950.0</td>\n",
       "      <td>156.0</td>\n",
       "      <td>2011</td>\n",
       "    </tr>\n",
       "  </tbody>\n",
       "</table>\n",
       "</div>"
      ],
      "text/plain": [
       "   mileage        make   model      fuel    gear offer_type   price     hp  \\\n",
       "0   235000         BMW     316    Diesel  Manual       Used  6800.0  116.0   \n",
       "1    92800  Volkswagen    Golf  Gasoline  Manual       Used  6877.0  122.0   \n",
       "2   149300        SEAT    Exeo  Gasoline  Manual       Used  6900.0  160.0   \n",
       "3    96200     Renault  Megane  Gasoline  Manual       Used  6950.0  110.0   \n",
       "4   156000     Peugeot     308  Gasoline  Manual       Used  6950.0  156.0   \n",
       "\n",
       "   year  \n",
       "0  2011  \n",
       "1  2011  \n",
       "2  2011  \n",
       "3  2011  \n",
       "4  2011  "
      ]
     },
     "execution_count": 63,
     "metadata": {},
     "output_type": "execute_result"
    }
   ],
   "source": [
    "conclusion = '''\n",
    "Не вижу никаких проблем\n",
    "'''\n",
    "\n",
    "df_new.head()"
   ]
  },
  {
   "cell_type": "markdown",
   "id": "ff63ebaf",
   "metadata": {},
   "source": [
    "11. Создайте новый столбец из `make` и `model` и выведите топ 10 самый дорогих и дешевых автомобилей с помощью средней стоимости"
   ]
  },
  {
   "cell_type": "code",
   "execution_count": 77,
   "id": "3c78b550",
   "metadata": {
    "scrolled": true
   },
   "outputs": [
    {
     "name": "stdout",
     "output_type": "stream",
     "text": [
      "Top 10:\n",
      "              make_model         price\n",
      "0            Ferrari F12  1.199900e+06\n",
      "1    Mercedes-Benz S 650  7.170780e+05\n",
      "2        Maybach Pullman  6.084390e+05\n",
      "3            Ferrari 812  4.399000e+05\n",
      "4           Aston Martin  3.980000e+05\n",
      "5  Lamborghini Aventador  3.714232e+05\n",
      "6          McLaren 675LT  2.979000e+05\n",
      "7     Ferrari F8 Tributo  2.944167e+05\n",
      "8    Bentley Flying Spur  2.515600e+05\n",
      "9           McLaren 720S  2.511450e+05\n",
      "------------------------------------------------\n",
      "Top -10:\n",
      "                make_model        price\n",
      "0              Lada Priora  1190.000000\n",
      "1           Brilliance BS4  1500.000000\n",
      "2               SEAT Panda  1650.000000\n",
      "3          Others Landwind  1850.000000\n",
      "4   Trailer-Anhänger Focus  2650.000000\n",
      "5             Hyundai Getz  2800.000000\n",
      "6  Trailer-Anhänger Fiesta  2950.000000\n",
      "7           Volkswagen Fox  3011.181818\n",
      "8              Peugeot 206  3363.000000\n",
      "9               Fiat Linea  3400.000000\n"
     ]
    }
   ],
   "source": [
    "make_model = df_new['make'] + ' ' + df_new['model']\n",
    "try:\n",
    "    top_df = df_new.insert(0, 'make_model', make_model)\n",
    "except ValueError:\n",
    "    pass\n",
    "grouped = df_new.groupby(by=['make_model'], as_index=False).agg(price=('price', 'mean'))\n",
    "sorted = grouped.sort_values(by='price', ascending=False).reset_index(drop=True)\n",
    "top_10 = sorted.head(10)\n",
    "bottom_10 = sorted.tail(10)\n",
    "\n",
    "print(\"Top 10:\")\n",
    "print(top_10)\n",
    "\n",
    "print(\"------------------------------------------------\")\n",
    "\n",
    "print(\"Top -10:\")\n",
    "print(bottom_10.sort_values(by='price').reset_index(drop=True))"
   ]
  },
  {
   "cell_type": "markdown",
   "id": "3a22e922",
   "metadata": {},
   "source": [
    "12. Сделайте общий вывод о проделанной работе"
   ]
  },
  {
   "cell_type": "code",
   "execution_count": 31,
   "id": "057c17c2",
   "metadata": {},
   "outputs": [
    {
     "name": "stdout",
     "output_type": "stream",
     "text": [
      "\n",
      "Было очень круто, реально понравилось разбираться, искать гипотезу, давно не писала алгоритмы, тоже вспомнила, поделала\n",
      "Пришлось попыхтеть, но в целом результатом довольне, сем 10\\10\n",
      "\n",
      "p.s. Спасибо за материалы к сему, они очень пригодились, ещё для себя небольщой конспект сделала, как памятку\n",
      "\n"
     ]
    }
   ],
   "source": [
    "conclusion = '''\n",
    "Было очень круто, реально понравилось разбираться, искать гипотезу, давно не писала алгоритмы, тоже вспомнила, поделала\n",
    "Пришлось попыхтеть, но в целом результатом довольне, сем 10\\\\10\n",
    "\n",
    "p.s. Спасибо за материалы к сему, они очень пригодились, ещё для себя небольщой конспект сделала, как памятку\n",
    "'''\n",
    "\n",
    "print(conclusion)"
   ]
  },
  {
   "cell_type": "code",
   "execution_count": null,
   "id": "f0d9478b-e385-4158-a9de-8853d3fa1563",
   "metadata": {},
   "outputs": [],
   "source": []
  }
 ],
 "metadata": {
  "kernelspec": {
   "display_name": "base",
   "language": "python",
   "name": "python3"
  },
  "language_info": {
   "codemirror_mode": {
    "name": "ipython",
    "version": 3
   },
   "file_extension": ".py",
   "mimetype": "text/x-python",
   "name": "python",
   "nbconvert_exporter": "python",
   "pygments_lexer": "ipython3",
   "version": "3.12.4"
  }
 },
 "nbformat": 4,
 "nbformat_minor": 5
}
